{
 "cells": [
  {
   "cell_type": "code",
   "execution_count": 1,
   "metadata": {},
   "outputs": [
    {
     "name": "stdout",
     "output_type": "stream",
     "text": [
      "No\n"
     ]
    }
   ],
   "source": [
    "s = input()\n",
    "stack = [] #((\n",
    "\n",
    "#(()))))\n",
    "\n",
    "for char in s:\n",
    "    if char == '(':\n",
    "        stack.append(char)\n",
    "    elif char == ')':\n",
    "        if not stack:\n",
    "            print(\"No\")\n",
    "            break\n",
    "        stack.pop()\n",
    "else:\n",
    "    if stack:\n",
    "        print(\"No\")\n",
    "    else:\n",
    "        print(\"Yes\") \n",
    "        \n"
   ]
  },
  {
   "cell_type": "code",
   "execution_count": 39,
   "metadata": {},
   "outputs": [
    {
     "name": "stdout",
     "output_type": "stream",
     "text": [
      "3\n",
      "4.0\n",
      "3.0\n",
      "4.333333333333333\n"
     ]
    }
   ],
   "source": [
    "n=int(input(\"Enter the number of integers: \"))\n",
    "integer_inputs=list(map(int, input().split()))\n",
    "\n",
    "sum=0\n",
    "averages=[]\n",
    "for i in range(n):\n",
    "    sum+=integer_inputs[i]\n",
    "    count = i + 1\n",
    "    avg = sum/count\n",
    "    averages.append(avg)\n",
    "   \n",
    "print(count)\n",
    "\n",
    "for avg in averages:\n",
    "    print(avg)\n",
    "\n",
    "\n",
    "\n",
    "\n"
   ]
  }
 ],
 "metadata": {
  "kernelspec": {
   "display_name": "Python 3",
   "language": "python",
   "name": "python3"
  },
  "language_info": {
   "codemirror_mode": {
    "name": "ipython",
    "version": 3
   },
   "file_extension": ".py",
   "mimetype": "text/x-python",
   "name": "python",
   "nbconvert_exporter": "python",
   "pygments_lexer": "ipython3",
   "version": "3.11.6"
  }
 },
 "nbformat": 4,
 "nbformat_minor": 2
}
