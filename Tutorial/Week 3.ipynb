{
 "cells": [
  {
   "cell_type": "code",
   "execution_count": 3,
   "metadata": {},
   "outputs": [
    {
     "name": "stdout",
     "output_type": "stream",
     "text": [
      "Yes\n"
     ]
    }
   ],
   "source": [
    "s = input()\n",
    "stack = [] #((\n",
    "\n",
    "#(()))))\n",
    "\n",
    "for char in s:\n",
    "    if char == '(':\n",
    "        stack.append(char)\n",
    "    elif char == ')':\n",
    "        if not stack:\n",
    "            print(\"No\")\n",
    "            break\n",
    "        stack.pop()\n",
    "else:\n",
    "    if stack:\n",
    "        print(\"No\")\n",
    "    else:\n",
    "        print(\"Yes\") \n",
    "        \n"
   ]
  }
 ],
 "metadata": {
  "kernelspec": {
   "display_name": "Python 3",
   "language": "python",
   "name": "python3"
  },
  "language_info": {
   "codemirror_mode": {
    "name": "ipython",
    "version": 3
   },
   "file_extension": ".py",
   "mimetype": "text/x-python",
   "name": "python",
   "nbconvert_exporter": "python",
   "pygments_lexer": "ipython3",
   "version": "3.11.6"
  }
 },
 "nbformat": 4,
 "nbformat_minor": 2
}
