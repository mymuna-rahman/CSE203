{
 "cells": [
  {
   "cell_type": "code",
   "execution_count": 11,
   "metadata": {},
   "outputs": [],
   "source": [
    "class graphAdjacencyList:\n",
    "    def __init__(self, dir=False):\n",
    "        self.dir = dir\n",
    "        self.graph = dict()\n",
    "\n",
    "    def addNode(self, node):\n",
    "        self.graph[node] = []\n",
    "\n",
    "    def addEdge(self, st, end):\n",
    "        if self.graph.get(st) is not None and self.graph.get(end) is not None:\n",
    "            if end not in self.graph[st]:\n",
    "                self.graph[st].append(end)\n",
    "                if not self.dir:\n",
    "                    if st not in self.graph[end]:\n",
    "                        self.graph[end].append(st)\n",
    "        else:\n",
    "            print(\"Nodes not found in the graph\")\n",
    "\n",
    "    def printAdjacencyList(self):\n",
    "        for node in self.graph:\n",
    "            print(f'{node}: {self.graph[node]}')\n",
    "\n",
    "    #2\n",
    "    def findCommonAdjacentNodes(self, node1, node2):\n",
    "        if node1 not in self.graph or node2 not in self.graph:\n",
    "            return \"Nodes not found in the graph\"\n",
    "\n",
    "        common_adjacent = set(self.graph[node1]) & set(self.graph[node2])\n",
    "        return list(common_adjacent)\n"
   ]
  },
  {
   "cell_type": "code",
   "execution_count": 17,
   "metadata": {},
   "outputs": [
    {
     "name": "stdout",
     "output_type": "stream",
     "text": [
      "0: [1, 2]\n",
      "1: [0, 2, 3]\n",
      "2: [0, 1, 3]\n",
      "3: [1, 2, 4]\n",
      "4: [3, 4]\n",
      "\n",
      "Common adjacent nodes between 0 and 1: [2]\n"
     ]
    }
   ],
   "source": [
    "g1 = graphAdjacencyList(False)\n",
    "\n",
    "g1.addNode(0)\n",
    "g1.addNode(1)\n",
    "g1.addNode(2)\n",
    "g1.addNode(3)\n",
    "g1.addNode(4)\n",
    "\n",
    "g1.addEdge(0, 1)\n",
    "g1.addEdge(0, 2)\n",
    "g1.addEdge(1, 2)\n",
    "g1.addEdge(1, 3)\n",
    "g1.addEdge(2, 3)\n",
    "g1.addEdge(3, 4)\n",
    "g1.addEdge(4, 4)\n",
    "\n",
    "g1.printAdjacencyList()\n",
    "print()\n",
    "\n",
    "common_adjacent = g1.findCommonAdjacentNodes(0, 1)\n",
    "print(\"Common adjacent nodes between 0 and 1:\", common_adjacent)\n"
   ]
  }
 ],
 "metadata": {
  "kernelspec": {
   "display_name": "Python 3",
   "language": "python",
   "name": "python3"
  },
  "language_info": {
   "codemirror_mode": {
    "name": "ipython",
    "version": 3
   },
   "file_extension": ".py",
   "mimetype": "text/x-python",
   "name": "python",
   "nbconvert_exporter": "python",
   "pygments_lexer": "ipython3",
   "version": "3.11.6"
  }
 },
 "nbformat": 4,
 "nbformat_minor": 2
}
