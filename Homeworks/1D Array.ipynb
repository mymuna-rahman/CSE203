{
 "cells": [
  {
   "cell_type": "markdown",
   "metadata": {},
   "source": [
    "Problem 02:"
   ]
  },
  {
   "cell_type": "code",
   "execution_count": 5,
   "metadata": {},
   "outputs": [
    {
     "name": "stdout",
     "output_type": "stream",
     "text": [
      "Forwards [2, 4, 6]\n",
      "Backwards [6, 4, 2]\n"
     ]
    }
   ],
   "source": [
    "l=[]\n",
    "n=int(input(\"Enter the size of the array:\"))\n",
    "\n",
    "for i in range(0,n):\n",
    "    x=int(input(\"Enter number:\"))\n",
    "    l.append(x)\n",
    "\n",
    "print(\"Forwards\",l)\n",
    "\n",
    "rev=l[::-1]\n",
    "print(\"Backwards\",rev)\n",
    "\n"
   ]
  },
  {
   "cell_type": "code",
   "execution_count": 12,
   "metadata": {},
   "outputs": [
    {
     "name": "stdout",
     "output_type": "stream",
     "text": [
      "[774, 234, 572, 76, 347, 107, 760, 797, 237, 688, 791, 754, 978, 251, 784, 132, 331, 842, 813, 998, 148, 600, 834, 312, 696, 935, 442, 685, 245, 933, 657, 804, 987, 291, 122, 574, 451, 188, 174, 298, 384, 918, 340, 780, 470, 483, 107, 973, 144, 868, 483, 655, 717, 608, 592, 316, 520, 49, 924, 162, 996, 762, 607, 409, 705, 775, 688, 413, 792, 809, 900, 964, 38, 338, 168, 409, 720, 400, 862, 279, 315, 914, 205, 112, 807, 114, 653, 618, 299, 63, 107, 161, 105, 901, 924, 583, 973, 467, 409, 99]\n",
      "Smallest Integer: 38\n",
      "Largest Integer: 998\n",
      "Average Integer: 529\n"
     ]
    }
   ],
   "source": [
    "import random\n",
    "\n",
    "l=[]\n",
    "for i in range(100):\n",
    "    l.append(random.randint(1,999))\n",
    "\n",
    "print(l)\n",
    "\n",
    "smallest=min(l)\n",
    "largest=max(l)\n",
    "average=sum(l)//len(l)\n",
    "\n",
    "print(\"Smallest Integer:\", smallest)\n",
    "print(\"Largest Integer:\",largest)\n",
    "print(\"Average Integer:\",average)\n",
    "\n"
   ]
  },
  {
   "cell_type": "markdown",
   "metadata": {},
   "source": [
    "Problem 04:"
   ]
  },
  {
   "cell_type": "code",
   "execution_count": 20,
   "metadata": {},
   "outputs": [
    {
     "name": "stdout",
     "output_type": "stream",
     "text": [
      "[71, 88, 23]\n",
      "Value not found!\n"
     ]
    }
   ],
   "source": [
    "import random\n",
    "\n",
    "l1=[]\n",
    "n=int(input(\"Enter the size of the array:\"))\n",
    "\n",
    "for i in range(n):\n",
    "    l1.append(random.randint(1,100))\n",
    "\n",
    "print(l1)\n",
    "\n",
    "if len(l1)==0:\n",
    "    print(\"Array is empty!\")\n",
    "\n",
    "else:\n",
    "    x=int(input(\"Enter Value:\"))\n",
    "    found=False\n",
    "    for i in l1:\n",
    "        if i==x:\n",
    "            found=True\n",
    "            print(\"The value\",x,\"is found at index\",l1.index(x),\"of the array.\")\n",
    "    if found==False:\n",
    "        print(\"Value not found!\")"
   ]
  },
  {
   "cell_type": "markdown",
   "metadata": {},
   "source": [
    "Problem 06:"
   ]
  },
  {
   "cell_type": "code",
   "execution_count": 20,
   "metadata": {},
   "outputs": [
    {
     "name": "stdout",
     "output_type": "stream",
     "text": [
      "The list is not sorted.\n",
      "[2, 1, 4, 3, 6, 5, 8, 7, 0, 9]\n"
     ]
    }
   ],
   "source": [
    "l=[]\n",
    "i=0\n",
    "while i<10:\n",
    "    n=int(input(\"Enter number:\"))\n",
    "    l.append(n)\n",
    "    i+=1\n",
    "\n",
    "if l==sorted(l):\n",
    "    print(\"The list is sorted in ascending order.\")\n",
    "elif l==sorted(l,reverse=True):\n",
    "    print(\"The list is sorted in descending order.\")\n",
    "else:\n",
    "    print(\"The list is not sorted.\")\n",
    "print(l)\n",
    "\n"
   ]
  },
  {
   "cell_type": "markdown",
   "metadata": {},
   "source": [
    "Problem 08:"
   ]
  },
  {
   "cell_type": "code",
   "execution_count": 30,
   "metadata": {},
   "outputs": [
    {
     "name": "stdout",
     "output_type": "stream",
     "text": [
      "Array: [100, 57, 65, 40, 86, 61, 92, 20, 43, 67, 71, 10, 89, 85, 23, 43, 75, 96, 76, 41]\n",
      "evenArray: [100, 40, 86, 92, 20, 10, 96, 76]\n",
      "oddArray: [57, 65, 61, 43, 67, 71, 89, 85, 23, 43, 75, 41]\n"
     ]
    }
   ],
   "source": [
    "import random\n",
    "\n",
    "l1_all=[]\n",
    "l2_even=[]\n",
    "l3_odd=[]\n",
    "\n",
    "for i in range(20):\n",
    "    l1_all.append(random.randint(1,100))\n",
    "print(\"Array:\",l1_all)\n",
    "\n",
    "for i in l1_all:\n",
    "    if i%2==0:\n",
    "        l2_even.append(i)\n",
    "print(\"evenArray:\",l2_even)\n",
    "\n",
    "for i in l1_all:\n",
    "    if i%2!=0:\n",
    "        l3_odd.append(i)\n",
    "print(\"oddArray:\",l3_odd)\n",
    "\n",
    "\n",
    "\n"
   ]
  },
  {
   "cell_type": "markdown",
   "metadata": {},
   "source": [
    "Problem 10:"
   ]
  },
  {
   "cell_type": "code",
   "execution_count": 12,
   "metadata": {},
   "outputs": [
    {
     "name": "stdout",
     "output_type": "stream",
     "text": [
      "[67, 58, 86, 65, 24, 38, 29, 122, 46, 95, 100, 127, 57, 98, 7, 126, 95, 95, 127, 97, 68, 108, 139, 48, 127, 54, 54, 95, 104, 35, 84, 71, 46, 138, 64, 145, 63, 103, 72, 44, 22, 103, 85, 70, 20, 64, 129, 116, 123, 53, 109, 87, 11, 64, 71, 126, 68, 82, 130, 19, 23, 57, 57, 41, 63, 68, 61, 76, 87, 36, 108, 1, 55, 130, 38, 142, 107, 142, 6, 69, 73, 23, 8, 146, 51, 58, 58, 58, 30, 69, 62, 39, 71, 44, 143, 124, 34, 5, 113, 132]\n",
      "The number of prime numbers in the list is: 25\n"
     ]
    }
   ],
   "source": [
    "import random\n",
    "\n",
    "l=[]\n",
    "for i in range(100):\n",
    "    l.append(random.randint(1,150))\n",
    "print(l)\n",
    "\n",
    "countPrime = 0\n",
    "\n",
    "for i in l:\n",
    "    if i < 2:\n",
    "        continue\n",
    "    is_prime = True\n",
    "    for j in range(2, i):\n",
    "        if i % j == 0:\n",
    "            is_prime = False\n",
    "            break\n",
    "    if is_prime:\n",
    "        countPrime += 1\n",
    "\n",
    "print(\"The number of prime numbers in the list is:\",countPrime)\n"
   ]
  },
  {
   "cell_type": "markdown",
   "metadata": {},
   "source": [
    "Problem 12:"
   ]
  },
  {
   "cell_type": "code",
   "execution_count": 10,
   "metadata": {},
   "outputs": [
    {
     "name": "stdout",
     "output_type": "stream",
     "text": [
      "[7, 5, 10, 6, 10, 5, 1, 8, 2, 4, 4, 4, 1, 7, 7]\n"
     ]
    },
    {
     "name": "stdout",
     "output_type": "stream",
     "text": [
      "The number 4 has occurred 3 times in the list.\n"
     ]
    }
   ],
   "source": [
    "import random\n",
    "\n",
    "l=[]\n",
    "for i in range(15):\n",
    "    l.append(random.randint(1,10))\n",
    "print(l)\n",
    "\n",
    "num=int(input(\"Enter the number to count its occurrences:\"))\n",
    "count=0\n",
    "for i in l:\n",
    "    if i==num:\n",
    "        count+=1\n",
    "\n",
    "print(\"The number\",num,\"has occurred\",count,\"times in the list.\")"
   ]
  }
 ],
 "metadata": {
  "kernelspec": {
   "display_name": "Python 3",
   "language": "python",
   "name": "python3"
  },
  "language_info": {
   "codemirror_mode": {
    "name": "ipython",
    "version": 3
   },
   "file_extension": ".py",
   "mimetype": "text/x-python",
   "name": "python",
   "nbconvert_exporter": "python",
   "pygments_lexer": "ipython3",
   "version": "3.11.6"
  },
  "orig_nbformat": 4
 },
 "nbformat": 4,
 "nbformat_minor": 2
}
