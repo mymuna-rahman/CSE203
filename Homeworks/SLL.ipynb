{
 "cells": [
  {
   "cell_type": "code",
   "execution_count": 7,
   "metadata": {},
   "outputs": [],
   "source": [
    "class node:\n",
    "    def __init__(self,data):\n",
    "        self.data=data\n",
    "        self.next=None\n",
    "\n",
    "class SLL:\n",
    "    def __init__(self):\n",
    "        self.head=None\n",
    "        self.size=0\n",
    "\n",
    "    def append(self,data):\n",
    "        if self.head==None:\n",
    "            newnode=node(data)\n",
    "            self.head=newnode\n",
    "        else:\n",
    "            current=self.head\n",
    "            while current.next is not None:\n",
    "                current=current.next\n",
    "            newnode=node(data)\n",
    "            current.next=newnode\n",
    "        self.size+=1\n",
    "\n",
    "    def printlist(self):\n",
    "        if self.head==None:\n",
    "            print(\"List is empty.\")\n",
    "        else:\n",
    "            current = self.head\n",
    "            while current != None:\n",
    "                print(current.data, end ='->')\n",
    "                current = current.next\n",
    "        print()    \n",
    "\n",
    "    def addNodeBeforeValue(self, givenValue, newValue):\n",
    "        newnode=node(newValue)\n",
    "\n",
    "        if self.head.data==givenValue:\n",
    "            newnode.next=self.head\n",
    "            self.head=newnode\n",
    "            return\n",
    "\n",
    "        else:\n",
    "            current=self.head\n",
    "            while current.next!=None and current.next.data!=givenValue:\n",
    "                current=current.next\n",
    "\n",
    "        if current.next==None:\n",
    "            print(\"Value not found.\")\n",
    "            \n",
    "        else: \n",
    "            newnode.next=current.next\n",
    "            current.next=newnode\n",
    "\n",
    "    def addNodeAfterValue(self, givenValue, newValue):\n",
    "            new_node = node(newValue)\n",
    "            current = self.head\n",
    "\n",
    "            while current is not None and current.data != givenValue:\n",
    "                current = current.next\n",
    "\n",
    "            if current.next==None:\n",
    "                print(\"Value not found.\")\n",
    "            else:\n",
    "                new_node.next = current.next\n",
    "                current.next = new_node\n",
    "\n",
    "    def sortedInsert(self, v):\n",
    "        newnode=node(v)\n",
    "\n",
    "        if self.head==None:\n",
    "            print(\"List is empty.\")\n",
    "\n",
    "        else:\n",
    "            current=self.head\n",
    "            while current.next is not None:\n",
    "                if v > current.data and v < current.next.data:\n",
    "                    newnode.next=current.next\n",
    "                    current.next=newnode\n",
    "                current=current.next"
   ]
  },
  {
   "cell_type": "code",
   "execution_count": 8,
   "metadata": {},
   "outputs": [
    {
     "name": "stdout",
     "output_type": "stream",
     "text": [
      "3->6->9->\n"
     ]
    }
   ],
   "source": [
    "sll=SLL()\n",
    "sll.append(3)\n",
    "sll.append(6)\n",
    "sll.append(9)\n",
    "sll.printlist()"
   ]
  },
  {
   "cell_type": "markdown",
   "metadata": {},
   "source": [
    "Problem 01:"
   ]
  },
  {
   "cell_type": "code",
   "execution_count": 9,
   "metadata": {},
   "outputs": [],
   "source": [
    "def getAverage(head):\n",
    "    if head==None:\n",
    "        print(\"List is empty.\")\n",
    "    else:\n",
    "        current=head\n",
    "        sum=0\n",
    "        count=0\n",
    "\n",
    "        while current is not None:\n",
    "            sum+=current.data\n",
    "            count+=1\n",
    "            current=current.next\n",
    "\n",
    "        avg=sum/count\n",
    "        print()\n",
    "        print(\"Average:\",avg)"
   ]
  },
  {
   "cell_type": "code",
   "execution_count": 10,
   "metadata": {},
   "outputs": [
    {
     "name": "stdout",
     "output_type": "stream",
     "text": [
      "5->6->7->8->\n",
      "\n",
      "Average: 6.5\n"
     ]
    }
   ],
   "source": [
    "sll=SLL()\n",
    "sll.append(5)\n",
    "sll.append(6)\n",
    "sll.append(7)\n",
    "sll.append(8)\n",
    "sll.printlist()\n",
    "getAverage(sll.head)"
   ]
  },
  {
   "cell_type": "markdown",
   "metadata": {},
   "source": [
    "Problem 02:"
   ]
  },
  {
   "cell_type": "code",
   "execution_count": 11,
   "metadata": {},
   "outputs": [],
   "source": [
    "def numOfOccurences(head, value):\n",
    "    if head==None:\n",
    "        print(\"List is empty.\")\n",
    "    else:\n",
    "        count=0\n",
    "        current=head\n",
    "        \n",
    "        while current!=None:\n",
    "            if current.data==value:\n",
    "                count+=1\n",
    "            current=current.next\n",
    "        print()\n",
    "        print(f\"Number of occurences of the value {value}:\",count)"
   ]
  },
  {
   "cell_type": "code",
   "execution_count": 12,
   "metadata": {},
   "outputs": [
    {
     "name": "stdout",
     "output_type": "stream",
     "text": [
      "1->2->3->3->4->\n",
      "\n",
      "Number of occurences of the value 3: 2\n",
      "\n",
      "Number of occurences of the value 5: 0\n"
     ]
    }
   ],
   "source": [
    "sll=SLL()\n",
    "sll.append(1)\n",
    "sll.append(2)\n",
    "sll.append(3)\n",
    "sll.append(3)\n",
    "sll.append(4)\n",
    "sll.printlist()\n",
    "numOfOccurences(sll.head,3)\n",
    "numOfOccurences(sll.head,5)"
   ]
  },
  {
   "cell_type": "markdown",
   "metadata": {},
   "source": [
    "Problem 04:"
   ]
  },
  {
   "cell_type": "code",
   "execution_count": 13,
   "metadata": {},
   "outputs": [
    {
     "name": "stdout",
     "output_type": "stream",
     "text": [
      "3->6->7->10->\n",
      "3->4->6->7->10->\n",
      "1->3->4->6->7->10->\n",
      "1->3->7->4->6->7->10->\n",
      "Value not found.\n",
      "1->3->7->4->6->7->10->\n",
      "1->2->3->7->4->6->7->10->\n"
     ]
    }
   ],
   "source": [
    "s=SLL()\n",
    "s.append(3)\n",
    "s.append(6)\n",
    "s.append(7)\n",
    "s.append(10)\n",
    "s.printlist()\n",
    "\n",
    "s.addNodeBeforeValue(6,4)\n",
    "s.printlist()\n",
    "\n",
    "s.addNodeBeforeValue(3,1)\n",
    "s.printlist()\n",
    "\n",
    "s.addNodeBeforeValue(4,7)\n",
    "s.printlist()\n",
    "\n",
    "s.addNodeBeforeValue(13,12)\n",
    "s.printlist()\n",
    "\n",
    "s.addNodeAfterValue(1,2)\n",
    "s.printlist()"
   ]
  },
  {
   "cell_type": "markdown",
   "metadata": {},
   "source": [
    "Problem 03:"
   ]
  },
  {
   "cell_type": "code",
   "execution_count": 14,
   "metadata": {},
   "outputs": [],
   "source": [
    "def isIdentical(l1, l2):\n",
    "    if l1.size != l2.size:\n",
    "        return False\n",
    "    else:\n",
    "        c1 = l1.head\n",
    "        c2 = l2.head\n",
    "        while c1 is not None and c2 is not None:\n",
    "            if c1.data != c2.data:\n",
    "                return False\n",
    "            c1 = c1.next\n",
    "            c2 = c2.next\n",
    "            \n",
    "        else:\n",
    "            return True\n",
    "\n"
   ]
  },
  {
   "cell_type": "code",
   "execution_count": 15,
   "metadata": {},
   "outputs": [
    {
     "name": "stdout",
     "output_type": "stream",
     "text": [
      "7->6->10->11->\n",
      "7->16->10->11->\n",
      "7->6->10->11->\n",
      "7->6->10->\n",
      "False\n",
      "False\n",
      "True\n"
     ]
    }
   ],
   "source": [
    "s1 = SLL()\n",
    "s1.append(7)\n",
    "s1.append(6)\n",
    "s1.append(10)\n",
    "s1.append(11)\n",
    "s1.printlist()\n",
    "\n",
    "s2 = SLL()\n",
    "s2.append(7)\n",
    "s2.append(16)\n",
    "s2.append(10)\n",
    "s2.append(11)\n",
    "s2.printlist()\n",
    "\n",
    "s3=SLL()\n",
    "s3.append(7)\n",
    "s3.append(6)\n",
    "s3.append(10)\n",
    "s3.append(11)\n",
    "s3.printlist()\n",
    "\n",
    "s4=SLL()\n",
    "s4.append(7)\n",
    "s4.append(6)\n",
    "s4.append(10)\n",
    "s4.printlist()\n",
    "\n",
    "print(isIdentical(s1, s2))\n",
    "print(isIdentical(s3,s4))\n",
    "print(isIdentical(s3,s1))"
   ]
  },
  {
   "cell_type": "markdown",
   "metadata": {},
   "source": [
    "Problem 06:"
   ]
  },
  {
   "cell_type": "code",
   "execution_count": 16,
   "metadata": {},
   "outputs": [
    {
     "name": "stdout",
     "output_type": "stream",
     "text": [
      "3->6->7->10->\n",
      "3->5->6->7->10->\n",
      "3->5->6->7->9->10->\n",
      "3->5->6->7->8->9->10->\n"
     ]
    }
   ],
   "source": [
    "s=SLL()\n",
    "s.append(3)\n",
    "s.append(6)\n",
    "s.append(7)\n",
    "s.append(10)\n",
    "s.printlist()\n",
    "s.sortedInsert(5)\n",
    "s.printlist()\n",
    "s.sortedInsert(9)\n",
    "s.printlist()\n",
    "s.sortedInsert(8)\n",
    "s.printlist()\n"
   ]
  },
  {
   "cell_type": "markdown",
   "metadata": {},
   "source": [
    "Problem 08:"
   ]
  },
  {
   "cell_type": "code",
   "execution_count": 17,
   "metadata": {},
   "outputs": [],
   "source": [
    "class node:\n",
    "    def __init__(self,data):\n",
    "        self.data=data\n",
    "        self.next=None\n",
    "        self.prev=None\n",
    "\n",
    "class DLL:\n",
    "    def __init__(self):\n",
    "        self.head=None\n",
    "        self.tail=None\n",
    "\n",
    "    def append(self,data):\n",
    "        newnode=node(data)\n",
    "        \n",
    "        if self.head==None:\n",
    "            self.head=newnode\n",
    "            self.tail=newnode\n",
    "        else:\n",
    "            current=self.head\n",
    "            while current.next is not None:\n",
    "                current=current.next\n",
    "            current.next=newnode\n",
    "            newnode.prev=current\n",
    "            self.tail=newnode\n",
    "\n",
    "    def printlist(self):\n",
    "        if self.head==None:\n",
    "            print(\"List is empty.\")\n",
    "        else:\n",
    "            current=self.head\n",
    "            while current is not None:\n",
    "                print(current.data, end=\"<->\")\n",
    "                current=current.next\n",
    "            print()\n",
    "\n",
    "    def addNodeAfterValue(self,givenValue,newValue):\n",
    "        newnode=node(newValue)\n",
    "        if self.head==None:\n",
    "            print('List is empty.')\n",
    "        else:\n",
    "            current=self.head\n",
    "            while current.next!=None and current.data!=givenValue:\n",
    "                current=current.next\n",
    "            if current.data==givenValue:\n",
    "                newnode.next=current.next\n",
    "                newnode.prev=current\n",
    "                if current.next!=None:\n",
    "                    current.next.prev=newnode\n",
    "                current.next=newnode\n",
    "\n",
    "            else:\n",
    "                print('Value not found.')"
   ]
  },
  {
   "cell_type": "code",
   "execution_count": 18,
   "metadata": {},
   "outputs": [
    {
     "name": "stdout",
     "output_type": "stream",
     "text": [
      "1<->2<->3<->4<->\n",
      "1<->2<->3<->6<->4<->\n",
      "Value not found.\n",
      "1<->2<->3<->6<->4<->\n"
     ]
    }
   ],
   "source": [
    "d=DLL()\n",
    "d.append(1)\n",
    "d.append(2)\n",
    "d.append(3)\n",
    "d.append(4)\n",
    "d.printlist()\n",
    "d.addNodeAfterValue(3,6)\n",
    "d.printlist()\n",
    "d.addNodeAfterValue(5,7)\n",
    "d.printlist()"
   ]
  }
 ],
 "metadata": {
  "kernelspec": {
   "display_name": "Python 3",
   "language": "python",
   "name": "python3"
  },
  "language_info": {
   "codemirror_mode": {
    "name": "ipython",
    "version": 3
   },
   "file_extension": ".py",
   "mimetype": "text/x-python",
   "name": "python",
   "nbconvert_exporter": "python",
   "pygments_lexer": "ipython3",
   "version": "3.11.6"
  }
 },
 "nbformat": 4,
 "nbformat_minor": 2
}
