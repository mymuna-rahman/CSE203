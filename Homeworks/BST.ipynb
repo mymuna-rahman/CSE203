{
 "cells": [
  {
   "cell_type": "markdown",
   "metadata": {},
   "source": [
    "1. Write insert(self, data) function that will create a node and insert the node into a BST. You should write the insert function with iteration. Then Take a list of 12 elements. Randomly generate 12 numbers and put them into the list. Then in a loop, use insert function to insert the elements in to a BST"
   ]
  },
  {
   "cell_type": "markdown",
   "metadata": {},
   "source": [
    "2. Write insertR(self, data) that will create a node and insert the node into a BST with recursion. You should not use any iteration."
   ]
  },
  {
   "cell_type": "markdown",
   "metadata": {},
   "source": [
    "3. Write findMaxR(self, root) that will return the maximum of a BST using recursion."
   ]
  },
  {
   "cell_type": "markdown",
   "metadata": {},
   "source": [
    "4. Write findMinR(self, root) that will return the minimum of a BST using recursion."
   ]
  },
  {
   "cell_type": "markdown",
   "metadata": {},
   "source": [
    "5. Write searchR(self, root, data) that will search the data in a BST using recursion"
   ]
  },
  {
   "cell_type": "code",
   "execution_count": 29,
   "metadata": {},
   "outputs": [],
   "source": [
    "class Node:\n",
    "    def __init__(self, data):\n",
    "        self.data = data\n",
    "        self.left_child = None\n",
    "        self.right_child = None\n",
    "\n",
    "class BinarySearchTree:\n",
    "    def __init__(self):\n",
    "        self.root = None\n",
    "\n",
    "    def insert(self, data):\n",
    "        new_node = Node(data)\n",
    "        if self.root is None:\n",
    "            self.root = new_node\n",
    "        else:\n",
    "            current = self.root\n",
    "            parent = None\n",
    "            while current:\n",
    "                parent = current\n",
    "                if new_node.data < current.data:\n",
    "                    current = current.left_child\n",
    "                else:\n",
    "                    current = current.right_child\n",
    "            if new_node.data < parent.data:\n",
    "                parent.left_child = new_node\n",
    "            else:\n",
    "                parent.right_child = new_node\n",
    "\n",
    "    def inorder(self, node):\n",
    "        if node is None:\n",
    "            return\n",
    "        else:\n",
    "            self.inorder(node.left_child)\n",
    "            print(node.data)\n",
    "            self.inorder(node.right_child)\n",
    "\n",
    "    def insertR(self, node, value):\n",
    "        if node is None:\n",
    "            node = Node(value)\n",
    "            return node\n",
    "        else:\n",
    "            if value <= node.data:\n",
    "                node.left_child  = self.insertR(node.left_child, value)\n",
    "            else:\n",
    "                node.right_child  = self.insertR(node.right_child , value)\n",
    "            return node\n",
    "\n",
    "    def find_maxR(self, node):\n",
    "        if node == None:\n",
    "            return None\n",
    "        elif node.right_child == None:\n",
    "            return node.data\n",
    "        else:\n",
    "            return self.find_maxR(node.right_child)\n",
    "\n",
    "    def find_minR(self, node):\n",
    "        if node == None:\n",
    "            return None\n",
    "        elif node.left_child == None:\n",
    "            return node.data\n",
    "        else:\n",
    "            return self.find_minR(node.left_child)\n",
    "    "
   ]
  },
  {
   "cell_type": "code",
   "execution_count": 25,
   "metadata": {},
   "outputs": [
    {
     "name": "stdout",
     "output_type": "stream",
     "text": [
      "3\n",
      "5\n",
      "7\n",
      "8\n",
      "9\n",
      "10\n",
      "11\n",
      "13\n",
      "13\n",
      "15\n",
      "16\n",
      "17\n"
     ]
    }
   ],
   "source": [
    "bst = BinarySearchTree()\n",
    "\n",
    "lst = [7, 15, 9, 8, 10, 5, 3, 16, 11, 13, 17, 13]\n",
    "for i in lst:\n",
    "    bst.insert(i)\n",
    "\n",
    "bst.inorder(bst.root)\n"
   ]
  }
 ],
 "metadata": {
  "kernelspec": {
   "display_name": "Python 3",
   "language": "python",
   "name": "python3"
  },
  "language_info": {
   "codemirror_mode": {
    "name": "ipython",
    "version": 3
   },
   "file_extension": ".py",
   "mimetype": "text/x-python",
   "name": "python",
   "nbconvert_exporter": "python",
   "pygments_lexer": "ipython3",
   "version": "3.11.6"
  }
 },
 "nbformat": 4,
 "nbformat_minor": 2
}
