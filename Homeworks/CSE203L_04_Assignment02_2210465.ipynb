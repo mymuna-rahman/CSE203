{
 "cells": [
  {
   "attachments": {
    "image-2.png": {
     "image/png": "[encoded data removed]"
    },
    "image-3.png": {
     "image/png": "[encoded data removed]"
    },
    "image.png": {
     "image/png": "[encoded data removed]"
    }
   },
   "cell_type": "markdown",
   "metadata": {},
   "source": [
    "Recursion –\n",
    "1. Write a function printTillN(n) where n is a positive integer input n from the\n",
    "user and print 1 to n. Suppose n = 5\n",
    "The output should be 1 2 3 4 5 *You can not take any other parameter in the function.\n",
    "\n",
    "2. Write a recursive function to calculate the factorial of a given non-negative\n",
    "integer n.\n",
    "\n",
    "\n",
    "3. Write a recursive function to find the sum of digits of a positive integer num.\n",
    "\n",
    "\n",
    "4. Write a recursive function to calculate the power of a given base base raised\n",
    "to an exponent.\n",
    "For example, if the function is called with base = 2 and exponent = 3, the\n",
    "result should be 2^3 = 8.\n",
    "\n",
    "\n",
    "5. Take input from the user (n) and write a recursive function\n",
    "print_pattern(n, i =1) to print a pattern.\n",
    "For example, if n = 5 the pattern should be:\n",
    "\n",
    "\n",
    "![image.png](attachment:image.png)\n",
    "\n",
    "\n",
    "6. Take input from the user (n) and write a recursive function\n",
    "print_pattern(n, i =1) to print a pattern.\n",
    "For example, if n = 5 the pattern should be:\n",
    "\n",
    "\n",
    "![image-2.png](attachment:image-2.png)\n",
    "\n",
    "*Make sure the commas are printed in the given pattern\n",
    "\n",
    "\n",
    "7. Take input from the user (n) and write a recursive function\n",
    "print_pattern(n, i =1) to print a pattern.\n",
    "For example, if n = 5 the pattern should be:\n",
    "\n",
    "\n",
    "![image-3.png](attachment:image-3.png)\n",
    "\n",
    "\n",
    "8. Given two integers, find and print the GCD (Greatest Common Divisor) of\n",
    "them. The function will return the GCD."
   ]
  },
  {
   "cell_type": "code",
   "execution_count": 23,
   "metadata": {},
   "outputs": [
    {
     "name": "stdout",
     "output_type": "stream",
     "text": [
      "6 5 4 3 2 1 "
     ]
    }
   ],
   "source": [
    "#1\n",
    "def printTillN(n):\n",
    "    if n==1:  \n",
    "        print(n, end=' ')\n",
    "        return\n",
    "    else:\n",
    "        print(n, end=' ')\n",
    "        printTillN(n-1)  \n",
    "\n",
    "printTillN(6)"
   ]
  },
  {
   "cell_type": "code",
   "execution_count": 20,
   "metadata": {},
   "outputs": [
    {
     "data": {
      "text/plain": [
       "720"
      ]
     },
     "execution_count": 20,
     "metadata": {},
     "output_type": "execute_result"
    }
   ],
   "source": [
    "#2\n",
    "def fact(n):\n",
    "    if n==1:\n",
    "        return 1\n",
    "    else:\n",
    "        return n*fact(n-1)\n",
    "\n",
    "fact(6)"
   ]
  },
  {
   "cell_type": "code",
   "execution_count": 22,
   "metadata": {},
   "outputs": [
    {
     "data": {
      "text/plain": [
       "6"
      ]
     },
     "execution_count": 22,
     "metadata": {},
     "output_type": "execute_result"
    }
   ],
   "source": [
    "#3 \n",
    "def sumOfDigits(n):\n",
    "    if n<10:\n",
    "        return n\n",
    "    else:\n",
    "       dig=n%10\n",
    "       return dig + sumOfDigits(n//10) \n",
    "\n",
    "sumOfDigits(123)"
   ]
  },
  {
   "cell_type": "code",
   "execution_count": 26,
   "metadata": {},
   "outputs": [
    {
     "data": {
      "text/plain": [
       "64"
      ]
     },
     "execution_count": 26,
     "metadata": {},
     "output_type": "execute_result"
    }
   ],
   "source": [
    "#4\n",
    "def exp(base, pow):\n",
    "    if pow==1:\n",
    "        return base\n",
    "    else:\n",
    "        return base*exp(base,pow-1)\n",
    "\n",
    "exp(2,6)"
   ]
  },
  {
   "cell_type": "code",
   "execution_count": 50,
   "metadata": {},
   "outputs": [
    {
     "name": "stdout",
     "output_type": "stream",
     "text": [
      "1\n",
      "22\n",
      "333\n",
      "4444\n",
      "55555\n",
      "4444\n",
      "333\n",
      "22\n",
      "1\n"
     ]
    }
   ],
   "source": [
    "#5\n",
    "def print_pattern(n, i=1):\n",
    "    if i <= n:\n",
    "        print(str(i) * i)\n",
    "        print_pattern(n, i + 1)\n",
    "        if i!=n:\n",
    "            print(str(i) * i)\n",
    "\n",
    "print_pattern(5)\n"
   ]
  },
  {
   "cell_type": "code",
   "execution_count": 57,
   "metadata": {},
   "outputs": [
    {
     "name": "stdout",
     "output_type": "stream",
     "text": [
      "1\n",
      "1,2\n",
      "1,2,3\n",
      "1,2,3,4\n",
      "1,2,3,4,5\n",
      "1,2,3,4\n",
      "1,2,3\n",
      "1,2\n",
      "1\n"
     ]
    }
   ],
   "source": [
    "#6\n",
    "def print_pattern(n, i=1):\n",
    "    if i <= n:\n",
    "        for j in range(1, i + 1):\n",
    "            print(j, end=\"\")\n",
    "            if j != i:\n",
    "                print(\",\", end=\"\")\n",
    "        print()\n",
    "        print_pattern(n, i + 1)\n",
    "\n",
    "        if i != n:\n",
    "            for j in range(1, i + 1):\n",
    "                print(j, end=\"\")\n",
    "                if j != i:\n",
    "                    print(\",\", end=\"\")\n",
    "            print()\n",
    "\n",
    "print_pattern(5)"
   ]
  },
  {
   "cell_type": "code",
   "execution_count": 58,
   "metadata": {},
   "outputs": [
    {
     "name": "stdout",
     "output_type": "stream",
     "text": [
      "1\n",
      "12\n",
      "123\n",
      "1234\n",
      "12345\n",
      "1234\n",
      "123\n",
      "12\n",
      "1\n"
     ]
    }
   ],
   "source": [
    "#7\n",
    "def print_pattern(n, i=1):\n",
    "    if i <= n:\n",
    "        for j in range(1, i + 1):\n",
    "            print(j, end=\"\")\n",
    "        print()\n",
    "        print_pattern(n, i + 1)\n",
    "\n",
    "        if i != n:\n",
    "            for j in range(1, i + 1):\n",
    "                print(j, end=\"\")\n",
    "            print()\n",
    "\n",
    "print_pattern(5)"
   ]
  },
  {
   "cell_type": "code",
   "execution_count": 61,
   "metadata": {},
   "outputs": [
    {
     "name": "stdout",
     "output_type": "stream",
     "text": [
      "4\n",
      "9\n"
     ]
    }
   ],
   "source": [
    "#8\n",
    "def gcd(n1, n2, div=None):\n",
    "    if div is None:  \n",
    "        div = min(n1, n2) \n",
    "        \n",
    "    if n1%div==0 and n2%div==0:  \n",
    "        return div\n",
    "    else:\n",
    "        return gcd(n1, n2, div-1)  \n",
    "\n",
    "print(gcd(12, 8))\n",
    "print(gcd(63,36))"
   ]
  }
 ],
 "metadata": {
  "kernelspec": {
   "display_name": "Python 3",
   "language": "python",
   "name": "python3"
  },
  "language_info": {
   "codemirror_mode": {
    "name": "ipython",
    "version": 3
   },
   "file_extension": ".py",
   "mimetype": "text/x-python",
   "name": "python",
   "nbconvert_exporter": "python",
   "pygments_lexer": "ipython3",
   "version": "3.11.6"
  }
 },
 "nbformat": 4,
 "nbformat_minor": 2
}
