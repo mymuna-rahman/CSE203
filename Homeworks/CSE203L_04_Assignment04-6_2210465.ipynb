{
 "cells": [
  {
   "cell_type": "code",
   "execution_count": 28,
   "metadata": {},
   "outputs": [],
   "source": [
    "class Node:\n",
    "    def __init__(self, data):\n",
    "        self.data = data\n",
    "        self.left_child = None\n",
    "        self.right_child = None\n",
    "\n",
    "class BinarySearchTree:\n",
    "    def __init__(self):\n",
    "        self.root = None\n",
    "\n",
    "    def inorder(self, node):\n",
    "        if node is None:\n",
    "            return\n",
    "        else:\n",
    "            self.inorder(node.left_child)\n",
    "            print(node.data)\n",
    "            self.inorder(node.right_child)\n",
    "\n",
    "    def insertR(self, node, value):\n",
    "        if node is None:\n",
    "            node = Node(value)\n",
    "            return node\n",
    "        else:\n",
    "            if value <= node.data:\n",
    "                node.left_child  = self.insertR(node.left_child, value)\n",
    "            else:\n",
    "                node.right_child  = self.insertR(node.right_child , value)\n",
    "            return node\n",
    "\n",
    "#2\n",
    "def largest_in_levels(root):\n",
    "    if root is None:\n",
    "        return\n",
    "\n",
    "    queue = [root]\n",
    "    level = 1\n",
    "\n",
    "    while queue:\n",
    "        max_element = float('-inf')\n",
    "        level_size = len(queue)\n",
    "        for _ in range(level_size):\n",
    "            current = queue.pop(0)\n",
    "            max_element = max(max_element, current.data)\n",
    "            if current.left_child:\n",
    "                queue.append(current.left_child)\n",
    "            if current.right_child:\n",
    "                queue.append(current.right_child)\n",
    "        print(f\"Largest element in level {level}: {max_element}\")\n",
    "        level += 1\n",
    "\n",
    "#4\n",
    "def isDuplicate(root1, root2):\n",
    "    if not root1 and not root2:\n",
    "        return True\n",
    "\n",
    "    if not root1 or not root2 or root1.data != root2.data:\n",
    "        return False\n",
    "\n",
    "    return isDuplicate(root1.left_child, root2.left_child) and isDuplicate(root1.right_child, root2.right_child)\n",
    "\n",
    "#6 (Iterative)\n",
    "def isBST_iterative(root):\n",
    "    if not root:\n",
    "        return True\n",
    "\n",
    "    stack = []\n",
    "    prev = None\n",
    "\n",
    "    while root or stack:\n",
    "        while root:\n",
    "            stack.append(root)\n",
    "            root = root.left_child\n",
    "\n",
    "        root = stack.pop()\n",
    "        if prev and root.data <= prev.data:\n",
    "            return False\n",
    "\n",
    "        prev = root\n",
    "        root = root.right_child\n",
    "\n",
    "    return True\n",
    "\n",
    "    #(Recursive)\n",
    "def isBST_recursive(root, min_val=float('-inf'), max_val=float('inf')):\n",
    "    if not root:\n",
    "        return True\n",
    "\n",
    "    if root.data <= min_val or root.data >= max_val:\n",
    "        return False\n",
    "\n",
    "    return (isBST_recursive(root.left_child, min_val, root.data) and\n",
    "            isBST_recursive(root.right_child, root.data, max_val))\n",
    "\n",
    "#8 (Iterative)\n",
    "def countNodes_iterative(root):\n",
    "    if not root:\n",
    "        return 0\n",
    "\n",
    "    count = 0\n",
    "    stack = []\n",
    "\n",
    "    while root or stack:\n",
    "        while root:\n",
    "            stack.append(root)\n",
    "            root = root.left_child\n",
    "\n",
    "        root = stack.pop()\n",
    "        count += 1\n",
    "        root = root.right_child\n",
    "\n",
    "    return count\n",
    "\n",
    "    #(Recursive)\n",
    "def countNodes_recursive(root):\n",
    "    if not root:\n",
    "        return 0\n",
    "\n",
    "    return 1 + countNodes_recursive(root.left_child) + countNodes_recursive(root.right_child)"
   ]
  },
  {
   "cell_type": "code",
   "execution_count": 18,
   "metadata": {},
   "outputs": [
    {
     "name": "stdout",
     "output_type": "stream",
     "text": [
      "Largest element in level 1: 7\n",
      "Largest element in level 2: 15\n",
      "Largest element in level 3: 16\n",
      "Largest element in level 4: 17\n",
      "Largest element in level 5: 11\n",
      "Largest element in level 6: 13\n",
      "\n"
     ]
    }
   ],
   "source": [
    "bst = BinarySearchTree()\n",
    "\n",
    "values = [7, 15, 9, 8, 10, 5, 3, 16, 11, 17, 13]\n",
    "for value in values:\n",
    "    bst.root = bst.insertR(bst.root, value)\n",
    "\n",
    "largest_in_levels(bst.root)\n",
    "print()\n"
   ]
  },
  {
   "cell_type": "code",
   "execution_count": 19,
   "metadata": {},
   "outputs": [
    {
     "name": "stdout",
     "output_type": "stream",
     "text": [
      "False\n",
      "True\n"
     ]
    }
   ],
   "source": [
    "bst2 = BinarySearchTree()\n",
    "\n",
    "values = [1, 7, 15, 9, 8, 10, 5, 3, 16]\n",
    "for value in values:\n",
    "    bst2.root = bst2.insertR(bst2.root, value)\n",
    "\n",
    "bst3 = BinarySearchTree()\n",
    "\n",
    "values = [1, 7, 15, 9, 8, 10, 5, 3, 16]\n",
    "for value in values:\n",
    "    bst3.root = bst3.insertR(bst3.root, value)\n",
    "\n",
    "print(isDuplicate(bst.root, bst2.root))\n",
    "print(isDuplicate(bst2.root, bst3.root))\n"
   ]
  },
  {
   "cell_type": "code",
   "execution_count": 25,
   "metadata": {},
   "outputs": [
    {
     "name": "stdout",
     "output_type": "stream",
     "text": [
      "The tree is a valid BST\n",
      "The tree is a valid BST\n"
     ]
    }
   ],
   "source": [
    "valid_bst_iterative = isBST_iterative(bst.root)\n",
    "if valid_bst_iterative:\n",
    "    print(\"The tree is a valid BST\")\n",
    "else:\n",
    "    print(\"The tree is not a valid BST\")\n",
    "\n",
    "valid_bst_recursive = isBST_recursive(bst2.root)\n",
    "if valid_bst_recursive:\n",
    "    print(\"The tree is a valid BST\")\n",
    "else:\n",
    "    print(\"The tree is not a valid BST\")"
   ]
  },
  {
   "cell_type": "code",
   "execution_count": 31,
   "metadata": {},
   "outputs": [
    {
     "name": "stdout",
     "output_type": "stream",
     "text": [
      "Number of nodes in BST 1: 11\n",
      "Number of nodes in BST 2: 9\n"
     ]
    }
   ],
   "source": [
    "print(\"Number of nodes in BST 1:\",countNodes_iterative(bst.root))\n",
    "print(\"Number of nodes in BST 2:\",countNodes_recursive(bst2.root))"
   ]
  }
 ],
 "metadata": {
  "kernelspec": {
   "display_name": "Python 3",
   "language": "python",
   "name": "python3"
  },
  "language_info": {
   "codemirror_mode": {
    "name": "ipython",
    "version": 3
   },
   "file_extension": ".py",
   "mimetype": "text/x-python",
   "name": "python",
   "nbconvert_exporter": "python",
   "pygments_lexer": "ipython3",
   "version": "3.11.6"
  }
 },
 "nbformat": 4,
 "nbformat_minor": 2
}
