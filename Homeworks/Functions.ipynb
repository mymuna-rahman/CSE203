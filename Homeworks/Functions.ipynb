{
 "cells": [
  {
   "cell_type": "markdown",
   "metadata": {},
   "source": [
    "Problem 02:\n",
    "\n"
   ]
  },
  {
   "cell_type": "code",
   "execution_count": 1,
   "metadata": {},
   "outputs": [
    {
     "name": "stdout",
     "output_type": "stream",
     "text": [
      "904.7786842338603\n"
     ]
    }
   ],
   "source": [
    "import math\n",
    "def vol(radius):\n",
    "    r=radius\n",
    "    v=(4/3)*math.pi*(r**3)\n",
    "\n",
    "    return v\n",
    "\n",
    "print(vol(6))"
   ]
  },
  {
   "cell_type": "markdown",
   "metadata": {},
   "source": [
    "Problem 04:"
   ]
  },
  {
   "cell_type": "code",
   "execution_count": 13,
   "metadata": {},
   "outputs": [
    {
     "name": "stdout",
     "output_type": "stream",
     "text": [
      "4\n"
     ]
    }
   ],
   "source": [
    "def numofdigits(num):\n",
    "    n=num\n",
    "    count=0\n",
    "\n",
    "    while n!=0:\n",
    "        n//=10\n",
    "        count+=1\n",
    "\n",
    "    return count\n",
    "\n",
    "print(numofdigits(6565))\n"
   ]
  },
  {
   "cell_type": "markdown",
   "metadata": {},
   "source": [
    "Problem 05:"
   ]
  },
  {
   "cell_type": "code",
   "execution_count": 10,
   "metadata": {},
   "outputs": [
    {
     "name": "stdout",
     "output_type": "stream",
     "text": [
      "31\n"
     ]
    }
   ],
   "source": [
    "def sumofdigits(num):\n",
    "    n=num\n",
    "    sum=0\n",
    "\n",
    "    while n!=0:\n",
    "        dig=n%10 #extracts last digit \n",
    "        sum+=dig #adds last digit with the sum\n",
    "        n//=10 #removes the last digit\n",
    "\n",
    "    return sum\n",
    "\n",
    "print(sumofdigits(76567))\n"
   ]
  },
  {
   "cell_type": "markdown",
   "metadata": {},
   "source": [
    "Problem 06:\n"
   ]
  },
  {
   "cell_type": "code",
   "execution_count": 1,
   "metadata": {},
   "outputs": [
    {
     "name": "stdout",
     "output_type": "stream",
     "text": [
      "4321\n"
     ]
    }
   ],
   "source": [
    "def rev(n):\n",
    "    rev=0\n",
    "    \n",
    "    while n>0:\n",
    "        dig=n%10\n",
    "        rev=(rev*10)+dig\n",
    "        n=n//10\n",
    "\n",
    "    return rev\n",
    "\n",
    "print(rev(1234))\n"
   ]
  },
  {
   "cell_type": "markdown",
   "metadata": {},
   "source": [
    "Problem 08:"
   ]
  },
  {
   "cell_type": "code",
   "execution_count": 2,
   "metadata": {},
   "outputs": [
    {
     "name": "stdout",
     "output_type": "stream",
     "text": [
      "12\n"
     ]
    }
   ],
   "source": [
    "def lcm(n1, n2):\n",
    "    lcm=0\n",
    "    greater = max(n1, n2)\n",
    "    while True:\n",
    "        if greater % n1 == 0 and greater % n2 == 0:\n",
    "            lcm = greater\n",
    "            break\n",
    "        greater += 1\n",
    "    return lcm\n",
    "\n",
    "print(lcm(3, 4))"
   ]
  },
  {
   "cell_type": "markdown",
   "metadata": {},
   "source": [
    "Problem 10:"
   ]
  },
  {
   "cell_type": "code",
   "execution_count": 4,
   "metadata": {},
   "outputs": [
    {
     "name": "stdout",
     "output_type": "stream",
     "text": [
      "Unsorted array: [12, 5, 3, 8, 20, 1]\n",
      "Sorted array: [1, 3, 5, 8, 12, 20]\n",
      "None\n"
     ]
    }
   ],
   "source": [
    "def main():\n",
    "    unsorted_array = [12, 5, 3, 8, 20, 1]\n",
    "    print(\"Unsorted array:\", unsorted_array)\n",
    "    unsorted_array.sort()\n",
    "    print(\"Sorted array:\", unsorted_array)\n",
    "\n",
    "print(main())"
   ]
  },
  {
   "cell_type": "markdown",
   "metadata": {},
   "source": [
    "Problem 12:"
   ]
  },
  {
   "cell_type": "code",
   "execution_count": 7,
   "metadata": {},
   "outputs": [
    {
     "name": "stdout",
     "output_type": "stream",
     "text": [
      "6\n"
     ]
    }
   ],
   "source": [
    "def countString(str):\n",
    "    word_count = 0\n",
    "    flag = False\n",
    "\n",
    "    for char in str:\n",
    "        if char == ' ':\n",
    "            if flag:\n",
    "                word_count += 1\n",
    "            flag = False\n",
    "        else:\n",
    "            flag = True\n",
    "\n",
    "    if flag:\n",
    "        word_count += 1\n",
    "\n",
    "    return word_count\n",
    "\n",
    "print(countString(\"Hello World!, Welcome to Python Programming.\"))"
   ]
  },
  {
   "cell_type": "markdown",
   "metadata": {},
   "source": [
    "Problem 14:"
   ]
  },
  {
   "cell_type": "code",
   "execution_count": null,
   "metadata": {},
   "outputs": [],
   "source": [
    "def validityCheck(id):\n",
    "    if len(id)!=7:\n",
    "        return False\n",
    "    "
   ]
  }
 ],
 "metadata": {
  "kernelspec": {
   "display_name": "Python 3",
   "language": "python",
   "name": "python3"
  },
  "language_info": {
   "codemirror_mode": {
    "name": "ipython",
    "version": 3
   },
   "file_extension": ".py",
   "mimetype": "text/x-python",
   "name": "python",
   "nbconvert_exporter": "python",
   "pygments_lexer": "ipython3",
   "version": "3.11.6"
  },
  "orig_nbformat": 4
 },
 "nbformat": 4,
 "nbformat_minor": 2
}
