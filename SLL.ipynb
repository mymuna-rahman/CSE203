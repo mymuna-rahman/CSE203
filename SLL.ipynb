{
 "cells": [
  {
   "cell_type": "markdown",
   "metadata": {},
   "source": [
    "Problem: 01"
   ]
  },
  {
   "cell_type": "code",
   "execution_count": null,
   "metadata": {},
   "outputs": [],
   "source": [
    "class node:\n",
    "    def __init__(self,data):\n",
    "        self.data=data\n",
    "        self.next=None\n",
    "\n",
    "class SLL:\n",
    "    def __init__(self):\n",
    "        self.head=None\n",
    "        self.size=0\n",
    "\n",
    "    def append(self,data):\n",
    "        if self.head==None:\n",
    "            newnode=node(data)\n",
    "            self.head=newnode\n",
    "        else:\n",
    "            current=self.head\n",
    "            while current.next is not None:\n",
    "                current=current.next\n",
    "            newnode=node(data)\n",
    "            current.next=newnode\n",
    "\n",
    "    def printlist(self):\n",
    "        if self.head==None:\n",
    "            print(\"List is empty.\")\n",
    "        else:\n",
    "            \n",
    "\n",
    "        \n",
    "\n"
   ]
  }
 ],
 "metadata": {
  "language_info": {
   "name": "python"
  }
 },
 "nbformat": 4,
 "nbformat_minor": 2
}
