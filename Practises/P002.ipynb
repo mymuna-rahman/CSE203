{
 "cells": [
  {
   "cell_type": "markdown",
   "metadata": {},
   "source": [
    "Recursion\n"
   ]
  },
  {
   "cell_type": "code",
   "execution_count": 2,
   "metadata": {},
   "outputs": [
    {
     "name": "stdout",
     "output_type": "stream",
     "text": [
      "120\n",
      "120\n"
     ]
    }
   ],
   "source": [
    "#factorial using while loop\n",
    "def fact(n):\n",
    "    i=0\n",
    "    fact=1\n",
    "    while i<n:\n",
    "        i=i+1\n",
    "        fact*=i\n",
    "    return fact\n",
    "\n",
    "print(fact(5))\n",
    "\n",
    "# factorial ising recursion\n",
    "def factR(n):\n",
    "    if n==0 or n==1:\n",
    "        return 1\n",
    "    else:\n",
    "        return n*factR(n-1)\n",
    "        \n",
    "print(fact(5))"
   ]
  },
  {
   "cell_type": "code",
   "execution_count": 5,
   "metadata": {},
   "outputs": [
    {
     "name": "stdout",
     "output_type": "stream",
     "text": [
      "321\n",
      "True\n"
     ]
    }
   ],
   "source": [
    "#check recursively whether integer is palindrome\n",
    "def reverseR(n, rev=0):\n",
    "    if n==0:\n",
    "        return rev\n",
    "    else:\n",
    "        digit=n%10\n",
    "        rev=rev*10+digit\n",
    "        return reverseR(n//10,rev)\n",
    "\n",
    "print(reverseR(123))\n",
    "\n",
    "def isPalindromeR_int(n):\n",
    "    if n!=reverseR(n):\n",
    "        return False\n",
    "    else:\n",
    "        return True\n",
    "\n",
    "print(isPalindromeR_int(121))"
   ]
  },
  {
   "cell_type": "code",
   "execution_count": 11,
   "metadata": {},
   "outputs": [
    {
     "name": "stdout",
     "output_type": "stream",
     "text": [
      "4\n",
      "3\n"
     ]
    }
   ],
   "source": [
    "def gcd(n1,n2):\n",
    "    if n1>n2:\n",
    "        small=n2\n",
    "    else:\n",
    "        small=n1\n",
    "    for i in range(1,small+1):\n",
    "        if ((n1%i==0) and (n2%i==0)):\n",
    "            gcd=i\n",
    "    return gcd\n",
    "\n",
    "print(gcd(12,8))\n",
    "print(gcd(9,30))"
   ]
  },
  {
   "cell_type": "code",
   "execution_count": 19,
   "metadata": {},
   "outputs": [
    {
     "name": "stdout",
     "output_type": "stream",
     "text": [
      "4\n",
      "4\n",
      "6\n",
      "1\n",
      "0\n"
     ]
    }
   ],
   "source": [
    "def gcdR2(n1,n2):\n",
    "    if n2==0:\n",
    "        return n1\n",
    "    else: \n",
    "        return gcdR2(n2,n1%n2)\n",
    "\n",
    "print(gcdR2(12,8))\n",
    "print(gcdR2(8,12))\n",
    "print(gcdR2(48,18))\n",
    "print(gcdR2(1,2))\n",
    "print(gcdR2(0,0))\n"
   ]
  },
  {
   "cell_type": "code",
   "execution_count": 28,
   "metadata": {},
   "outputs": [
    {
     "name": "stdout",
     "output_type": "stream",
     "text": [
      "1->2->3->\n",
      "3->\n"
     ]
    }
   ],
   "source": [
    "class node:\n",
    "    def __init__(self,data):\n",
    "        self.data=data\n",
    "        self.next=None\n",
    "\n",
    "class SLL:\n",
    "    def __init__(self):\n",
    "        self.head=None\n",
    "        self.size=0\n",
    "\n",
    "    def append(self,data):\n",
    "        if self.head==None:\n",
    "            newnode=node(data)\n",
    "            self.head=newnode\n",
    "        else:\n",
    "            current=self.head\n",
    "            while current.next is not None:\n",
    "                current=current.next\n",
    "            newnode=node(data)\n",
    "            current.next=newnode\n",
    "        self.size+=1\n",
    "\n",
    "    def printlist(self):\n",
    "        if self.head==None:\n",
    "            print(\"List is empty.\")\n",
    "        else:\n",
    "            current = self.head\n",
    "            while current != None:\n",
    "                print(current.data, end ='->')\n",
    "                current = current.next\n",
    "        print()  \n",
    "\n",
    "    def delK_NodesR(self, k):\n",
    "\n",
    "\n",
    "#         if k <= 0:\n",
    "#             return\n",
    "\n",
    "#         current = self.head\n",
    "#         for i in range(k - 1):\n",
    "#             if current is None:\n",
    "#                 return\n",
    "#             current = current.next\n",
    "#         self.head = current.next\n",
    "s=SLL()\n",
    "s.append(1)\n",
    "s.append(2)\n",
    "s.append(3)\n",
    "s.printlist()\n",
    "s.delK_NodesR(2)\n",
    "s.printlist()\n",
    "\n",
    "\n"
   ]
  },
  {
   "cell_type": "code",
   "execution_count": 4,
   "metadata": {},
   "outputs": [
    {
     "data": {
      "text/plain": [
       "64"
      ]
     },
     "execution_count": 4,
     "metadata": {},
     "output_type": "execute_result"
    }
   ],
   "source": [
    "def power(n):\n",
    "    prod=1\n",
    "    i=0\n",
    "    while i<=(n-1):\n",
    "        prod*=2\n",
    "        i+=1\n",
    "    return prod\n",
    "\n",
    "power(6)"
   ]
  },
  {
   "cell_type": "code",
   "execution_count": 1,
   "metadata": {},
   "outputs": [
    {
     "data": {
      "text/plain": [
       "64"
      ]
     },
     "execution_count": 1,
     "metadata": {},
     "output_type": "execute_result"
    }
   ],
   "source": [
    "def powerR(n): \n",
    "    if n==1: \n",
    "        return 2 #2^1=2\n",
    "    else:\n",
    "        return 2*powerR(n-1)\n",
    "\n",
    "powerR(6)"
   ]
  },
  {
   "cell_type": "code",
   "execution_count": 5,
   "metadata": {},
   "outputs": [
    {
     "name": "stdout",
     "output_type": "stream",
     "text": [
      "27\n",
      "125\n",
      "1024\n"
     ]
    }
   ],
   "source": [
    "def powerrR(num,pow): #power of any number\n",
    "    if pow==1:\n",
    "        return num\n",
    "    else:\n",
    "        return num*powerrR(num,pow-1)\n",
    "\n",
    "print(powerrR(3,3))\n",
    "print(powerrR(5,3))\n",
    "print(powerrR(2,10))"
   ]
  },
  {
   "cell_type": "code",
   "execution_count": 3,
   "metadata": {},
   "outputs": [
    {
     "name": "stdout",
     "output_type": "stream",
     "text": [
      "m ( -1 ):  0\n",
      "m ( 1 ):  2\n",
      "m ( 3 ):  4\n",
      "m ( 5 ):  6\n",
      "m ( 7 ):  8\n",
      "m ( 9 ):  10\n",
      "m ( 11 ):  12\n"
     ]
    },
    {
     "data": {
      "text/plain": [
       "12"
      ]
     },
     "execution_count": 3,
     "metadata": {},
     "output_type": "execute_result"
    }
   ],
   "source": [
    "def m(b):\n",
    "\n",
    "    if (b <= 0):\n",
    "        print ('m (', b, '): ', 0)\n",
    "        return 0\n",
    "    if (b % 4 == 0):\n",
    "        result = m(b - 1) + 3\n",
    "        print ('m (', b, '): ', result)\n",
    "        return result\n",
    "    else:\n",
    "        result = m(b - 2) + 2\n",
    "        print ('m (', b, '): ', result)\n",
    "        return result\n",
    "\n",
    "#driver code\n",
    "\n",
    "m(11)"
   ]
  }
 ],
 "metadata": {
  "kernelspec": {
   "display_name": "Python 3",
   "language": "python",
   "name": "python3"
  },
  "language_info": {
   "codemirror_mode": {
    "name": "ipython",
    "version": 3
   },
   "file_extension": ".py",
   "mimetype": "text/x-python",
   "name": "python",
   "nbconvert_exporter": "python",
   "pygments_lexer": "ipython3",
   "version": "3.11.6"
  }
 },
 "nbformat": 4,
 "nbformat_minor": 2
}
