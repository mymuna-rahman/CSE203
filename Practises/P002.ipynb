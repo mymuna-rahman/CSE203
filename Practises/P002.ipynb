{
 "cells": [
  {
   "cell_type": "markdown",
   "metadata": {},
   "source": [
    "Recursion\n"
   ]
  },
  {
   "cell_type": "code",
   "execution_count": 2,
   "metadata": {},
   "outputs": [
    {
     "name": "stdout",
     "output_type": "stream",
     "text": [
      "120\n",
      "120\n"
     ]
    }
   ],
   "source": [
    "#factorial using while loop\n",
    "def fact(n):\n",
    "    i=0\n",
    "    fact=1\n",
    "    while i<n:\n",
    "        i=i+1\n",
    "        fact*=i\n",
    "    return fact\n",
    "\n",
    "print(fact(5))\n",
    "\n",
    "# factorial ising recursion\n",
    "def factR(n):\n",
    "    if n==0 or n==1:\n",
    "        return 1\n",
    "    else:\n",
    "        return n*factR(n-1)\n",
    "        \n",
    "print(fact(5))"
   ]
  },
  {
   "cell_type": "code",
   "execution_count": 5,
   "metadata": {},
   "outputs": [
    {
     "name": "stdout",
     "output_type": "stream",
     "text": [
      "321\n",
      "True\n"
     ]
    }
   ],
   "source": [
    "#check recursively whether integer is palindrome\n",
    "def reverseR(n, rev=0):\n",
    "    if n==0:\n",
    "        return rev\n",
    "    else:\n",
    "        digit=n%10\n",
    "        rev=rev*10+digit\n",
    "        return reverseR(n//10,rev)\n",
    "\n",
    "print(reverseR(123))\n",
    "\n",
    "def isPalindromeR_int(n):\n",
    "    if n!=reverseR(n):\n",
    "        return False\n",
    "    else:\n",
    "        return True\n",
    "\n",
    "print(isPalindromeR_int(121))"
   ]
  },
  {
   "cell_type": "code",
   "execution_count": 11,
   "metadata": {},
   "outputs": [
    {
     "name": "stdout",
     "output_type": "stream",
     "text": [
      "4\n",
      "3\n"
     ]
    }
   ],
   "source": [
    "def gcd(n1,n2):\n",
    "    if n1>n2:\n",
    "        small=n2\n",
    "    else:\n",
    "        small=n1\n",
    "    for i in range(1,small+1):\n",
    "        if ((n1%i==0) and (n2%i==0)):\n",
    "            gcd=i\n",
    "    return gcd\n",
    "\n",
    "print(gcd(12,8))\n",
    "print(gcd(9,30))"
   ]
  }
 ],
 "metadata": {
  "kernelspec": {
   "display_name": "Python 3",
   "language": "python",
   "name": "python3"
  },
  "language_info": {
   "codemirror_mode": {
    "name": "ipython",
    "version": 3
   },
   "file_extension": ".py",
   "mimetype": "text/x-python",
   "name": "python",
   "nbconvert_exporter": "python",
   "pygments_lexer": "ipython3",
   "version": "3.11.6"
  }
 },
 "nbformat": 4,
 "nbformat_minor": 2
}
