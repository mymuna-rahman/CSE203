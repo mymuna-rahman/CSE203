{
 "cells": [
  {
   "cell_type": "markdown",
   "metadata": {},
   "source": [
    "Write a function to replace a node with a new node in a singly linked list.\n",
    "\n",
    "Example:\n",
    "sll: 1 -> 2 -> 3 -> 4 -> 5 ->\n",
    "Call the function with 2 and 99 as parameters. \n",
    "So the new singly linked list will be\n",
    "Output: 1 -> 99 -> 3 -> 4 -> 5 ->"
   ]
  },
  {
   "cell_type": "code",
   "execution_count": 26,
   "metadata": {},
   "outputs": [],
   "source": [
    "class node:\n",
    "    def __init__(self,data):\n",
    "        self.data=data\n",
    "        self.next=None\n",
    "\n",
    "class SLL:\n",
    "    def __init__(self):\n",
    "        self.head=None\n",
    "        self.size=0\n",
    "\n",
    "    def append(self,data):\n",
    "        if self.head==None:\n",
    "            newnode=node(data)\n",
    "            self.head=newnode\n",
    "        else:\n",
    "            current=self.head\n",
    "            while current.next is not None:\n",
    "                current=current.next\n",
    "            newnode=node(data)\n",
    "            current.next=newnode\n",
    "        self.size+=1\n",
    "\n",
    "    def printlist(self):\n",
    "        if self.head==None:\n",
    "            print(\"List is empty.\")\n",
    "        else:\n",
    "            current = self.head\n",
    "            while current != None:\n",
    "                print(current.data, end ='->')\n",
    "                current = current.next\n",
    "        print()  \n",
    "\n",
    "    def replace(self, givenValue, newValue):\n",
    "        newnode=node(newValue)\n",
    "\n",
    "        if self.head==None:\n",
    "            print(\"List is empty.\")\n",
    "        else:\n",
    "            current=self.head\n",
    "            prev=None\n",
    "\n",
    "            while current.next!=None and current.data!=givenValue:\n",
    "                prev=current\n",
    "                current=current.next\n",
    "                \n",
    "            if current.data==givenValue:\n",
    "                prev.next=newnode\n",
    "                newnode.next=current.next"
   ]
  },
  {
   "cell_type": "code",
   "execution_count": 27,
   "metadata": {},
   "outputs": [
    {
     "name": "stdout",
     "output_type": "stream",
     "text": [
      "1->2->3->4->5->\n",
      "1->99->3->4->5->\n"
     ]
    }
   ],
   "source": [
    "s=SLL()\n",
    "for i in range(1,6):\n",
    "    s.append(i)\n",
    "s.printlist()\n",
    "\n",
    "s.replace(2,99)\n",
    "s.printlist()"
   ]
  },
  {
   "cell_type": "markdown",
   "metadata": {},
   "source": [
    "Write a function to merge two singly linked lists in such a way that the nodes of the original two\n",
    "lists are interlinked with each other.\n",
    "Example:\n",
    "sllA: 1 -> 2 -> 3 -> 4 -> 5 ->\n",
    "sllB: 6 -> 7 -> 8 -> 9 -> 10 ->\n",
    "Output: 1 ->6 -> 2 -> 7 -> 3 -> 8 -> 4 -> 9 -> 5 -> 10 ->"
   ]
  },
  {
   "cell_type": "code",
   "execution_count": 28,
   "metadata": {},
   "outputs": [],
   "source": [
    "def merge(sllA,sllB):\n",
    "    curr1=sllA.head\n",
    "    curr2=sllB.head\n",
    "\n",
    "    while curr1 and curr2:\n",
    "        next1=curr1.next\n",
    "        next2=curr2.next\n",
    "        \n",
    "        curr1.next=curr2\n",
    "        curr2.next=next1\n",
    "\n",
    "        curr1=next1\n",
    "        curr2=next2"
   ]
  },
  {
   "cell_type": "code",
   "execution_count": 30,
   "metadata": {},
   "outputs": [
    {
     "name": "stdout",
     "output_type": "stream",
     "text": [
      "1->2->3->4->5->\n",
      "6->7->8->9->10->\n",
      "Merged List:\n",
      "1->6->2->7->3->8->4->9->5->10->\n"
     ]
    }
   ],
   "source": [
    "sllA = SLL()\n",
    "sllA.append(1)\n",
    "sllA.append(2)\n",
    "sllA.append(3)\n",
    "sllA.append(4)\n",
    "sllA.append(5)\n",
    "sllA.printlist()\n",
    "\n",
    "sllB = SLL()\n",
    "sllB.append(6)\n",
    "sllB.append(7)\n",
    "sllB.append(8)\n",
    "sllB.append(9)\n",
    "sllB.append(10)\n",
    "sllB.printlist()\n",
    "\n",
    "merge(sllA, sllB)\n",
    "\n",
    "print(\"Merged List:\")\n",
    "sllA.printlist()\n"
   ]
  }
 ],
 "metadata": {
  "kernelspec": {
   "display_name": "Python 3",
   "language": "python",
   "name": "python3"
  },
  "language_info": {
   "codemirror_mode": {
    "name": "ipython",
    "version": 3
   },
   "file_extension": ".py",
   "mimetype": "text/x-python",
   "name": "python",
   "nbconvert_exporter": "python",
   "pygments_lexer": "ipython3",
   "version": "3.11.6"
  }
 },
 "nbformat": 4,
 "nbformat_minor": 2
}
