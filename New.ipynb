{
 "cells": [
  {
   "cell_type": "code",
   "execution_count": 40,
   "metadata": {},
   "outputs": [
    {
     "name": "stdout",
     "output_type": "stream",
     "text": [
      "[2, 4, 6, 2]\n",
      "[2, 4, 2, 2]\n",
      "Stack s1 after finding the sum and appending the difference:\n",
      "[2, 4, 6, 2]\n",
      "Stack s2 after finding the sum:\n",
      "[2, 4, 2, 2, 4]\n"
     ]
    }
   ],
   "source": [
    "class Stack:\n",
    "    def __init__(self):\n",
    "        self.items = []\n",
    "\n",
    "    def push(self, item):\n",
    "        self.items.append(item)\n",
    "\n",
    "    def pop(self):\n",
    "        if not self.is_empty():\n",
    "            return self.items.pop()\n",
    "        else:\n",
    "            return None\n",
    "\n",
    "    def is_empty(self):\n",
    "        return len(self.items) == 0\n",
    "\n",
    "    def printStack(self):\n",
    "        print(self.items)\n",
    "\n",
    "def balancedSum(s1, s2):\n",
    "    diff = abs(sum(s1.items) - sum(s2.items))\n",
    "\n",
    "    if sum(s1.items) < sum(s2.items):\n",
    "      s1.push(diff)\n",
    "    else:\n",
    "      sum(s1.items) > sum(s2.items)\n",
    "      s2.push(diff)\n",
    "    return s1, s2\n",
    "\n",
    "s1 = Stack()\n",
    "s2 = Stack()\n",
    "\n",
    "s1.push(2)\n",
    "s1.push(4)\n",
    "s1.push(6)\n",
    "s1.push(2)\n",
    "s1.printStack()\n",
    "\n",
    "s2.push(2)\n",
    "s2.push(4)\n",
    "s2.push(2)\n",
    "s2.push(2)\n",
    "s2.printStack()\n",
    "\n",
    "result_s1, result_s2 = balancedSum(s1, s2)\n",
    "\n",
    "print(\"Stack s1 after finding the sum and appending the difference:\")\n",
    "result_s1.printStack()\n",
    "\n",
    "print(\"Stack s2 after finding the sum:\")\n",
    "result_s2.printStack()\n"
   ]
  }
 ],
 "metadata": {
  "kernelspec": {
   "display_name": "Python 3",
   "language": "python",
   "name": "python3"
  },
  "language_info": {
   "codemirror_mode": {
    "name": "ipython",
    "version": 3
   },
   "file_extension": ".py",
   "mimetype": "text/x-python",
   "name": "python",
   "nbconvert_exporter": "python",
   "pygments_lexer": "ipython3",
   "version": "3.11.6"
  }
 },
 "nbformat": 4,
 "nbformat_minor": 2
}
