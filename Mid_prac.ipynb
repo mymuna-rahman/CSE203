{
 "cells": [
  {
   "cell_type": "code",
   "execution_count": 15,
   "metadata": {},
   "outputs": [],
   "source": [
    "class node:\n",
    "    def __init__(self,data):\n",
    "        self.data=data\n",
    "        self.next=None\n",
    "\n",
    "class SLL:\n",
    "    def __init__(self):\n",
    "        self.head=None\n",
    "        self.size=0\n",
    "\n",
    "    def append(self,data):\n",
    "        if self.head==None:\n",
    "            newnode=node(data)\n",
    "            self.head=newnode\n",
    "        else:\n",
    "            current=self.head\n",
    "            while current.next is not None:\n",
    "                current=current.next\n",
    "            newnode=node(data)\n",
    "            current.next=newnode\n",
    "            self.size+=1\n",
    "\n",
    "    def printlist(self):\n",
    "        if self.head==None:\n",
    "            print(\"List is empty.\")\n",
    "        else:\n",
    "            current = self.head\n",
    "            while current != None:\n",
    "                print(current.data, end ='->')\n",
    "                current = current.next\n",
    "\n",
    "        print()\n",
    "\n",
    "    def deleteeven(self):\n",
    "        if self.head==None:\n",
    "            print(\"List if empty\")\n",
    "        else:\n",
    "            current=self.head\n",
    "            prev=None\n",
    "\n",
    "            while current:\n",
    "                if current.data%2==0:\n",
    "                    if current==self.head:\n",
    "                        self.head=self.head.next\n",
    "                    else:\n",
    "                        prev.next=current.next\n",
    "                else:\n",
    "                    prev=current\n",
    "                current=current.next\n",
    "\n",
    "            "
   ]
  },
  {
   "cell_type": "code",
   "execution_count": 16,
   "metadata": {},
   "outputs": [
    {
     "name": "stdout",
     "output_type": "stream",
     "text": [
      "Original List:\n",
      "2->2->3->4->5->6->\n",
      "List after deleting even numbers:\n",
      "3->5->\n"
     ]
    }
   ],
   "source": [
    "my_list = SLL()\n",
    "my_list.append(2)\n",
    "my_list.append(2)\n",
    "my_list.append(3)\n",
    "my_list.append(4)\n",
    "my_list.append(5)\n",
    "my_list.append(6)\n",
    "\n",
    "print(\"Original List:\")\n",
    "my_list.printlist()\n",
    "\n",
    "my_list.deleteeven()\n",
    "\n",
    "print(\"List after deleting even numbers:\")\n",
    "my_list.printlist() "
   ]
  },
  {
   "cell_type": "code",
   "execution_count": 2,
   "metadata": {},
   "outputs": [
    {
     "name": "stdout",
     "output_type": "stream",
     "text": [
      "0\n",
      "1\n",
      "2\n",
      "3\n",
      "4\n"
     ]
    }
   ],
   "source": [
    "lst = [4, 1, 2, 0, 3]\n",
    "for elem in lst:\n",
    "    print (lst[lst[elem]])"
   ]
  },
  {
   "cell_type": "code",
   "execution_count": 3,
   "metadata": {},
   "outputs": [
    {
     "name": "stdout",
     "output_type": "stream",
     "text": [
      "['data', 'development', 'for', 'important', 'is', 'software', 'structure', 'very']\n"
     ]
    }
   ],
   "source": [
    "text = \"data structure is very important for software development\"\n",
    "words= text.split()\n",
    "words.sort()\n",
    "print(words)"
   ]
  },
  {
   "cell_type": "code",
   "execution_count": 17,
   "metadata": {},
   "outputs": [],
   "source": [
    "def numOfOccurences(head,value):\n",
    "    if head is None:\n",
    "        print(\"List is empty.\")\n",
    "    else:\n",
    "        current=head\n",
    "        count=0\n",
    "\n",
    "        while current is not None:\n",
    "            if current.data==value:\n",
    "                count+=1\n",
    "            current=current.next\n",
    "\n",
    "        print()\n",
    "        print(f\"Number of occurences of the value {value}:\",count)\n",
    "        \n"
   ]
  },
  {
   "cell_type": "code",
   "execution_count": 18,
   "metadata": {},
   "outputs": [
    {
     "name": "stdout",
     "output_type": "stream",
     "text": [
      "1->2->2->2->3->3->3->4->\n",
      "\n",
      "Number of occurences of the value 3: 3\n",
      "\n",
      "Number of occurences of the value 5: 0\n",
      "\n",
      "Number of occurences of the value 2: 3\n"
     ]
    }
   ],
   "source": [
    "sll=SLL()\n",
    "sll.append(1)\n",
    "sll.append(2)\n",
    "sll.append(2)\n",
    "sll.append(2)\n",
    "sll.append(3)\n",
    "sll.append(3)\n",
    "sll.append(3)\n",
    "sll.append(4)\n",
    "sll.printlist()\n",
    "numOfOccurences(sll.head,3)\n",
    "numOfOccurences(sll.head,5)\n",
    "numOfOccurences(sll.head,2)\n",
    "\n"
   ]
  },
  {
   "cell_type": "code",
   "execution_count": 19,
   "metadata": {},
   "outputs": [],
   "source": [
    "def isIdentical(l1, l2):\n",
    "    if l1.size is not l2.size:\n",
    "        return False\n",
    "\n",
    "    else:\n",
    "        curr1=l1.head\n",
    "        curr2=l2.head\n",
    "\n",
    "        while curr1 and curr2 is not None:\n",
    "            if curr1.data!=curr2.data:\n",
    "                return False\n",
    "            curr1=curr1.next\n",
    "            curr2=curr2.next    \n",
    "\n",
    "        return True           "
   ]
  },
  {
   "cell_type": "code",
   "execution_count": 20,
   "metadata": {},
   "outputs": [
    {
     "name": "stdout",
     "output_type": "stream",
     "text": [
      "7->6->10->11->\n",
      "7->16->10->11->\n",
      "7->6->10->11->\n",
      "7->6->10->\n",
      "False\n",
      "True\n",
      "False\n"
     ]
    }
   ],
   "source": [
    "s1 = SLL()\n",
    "s1.append(7)\n",
    "s1.append(6)\n",
    "s1.append(10)\n",
    "s1.append(11)\n",
    "s1.printlist()\n",
    "\n",
    "s2 = SLL()\n",
    "s2.append(7)\n",
    "s2.append(16)\n",
    "s2.append(10)\n",
    "s2.append(11)\n",
    "s2.printlist()\n",
    "\n",
    "s3=SLL()\n",
    "s3.append(7)\n",
    "s3.append(6)\n",
    "s3.append(10)\n",
    "s3.append(11)\n",
    "s3.printlist()\n",
    "\n",
    "s4=SLL()\n",
    "s4.append(7)\n",
    "s4.append(6)\n",
    "s4.append(10)\n",
    "s4.printlist()\n",
    "\n",
    "print(isIdentical(s1,s4))\n",
    "print(isIdentical(s1,s3))\n",
    "print(isIdentical(s2,s4))\n"
   ]
  },
  {
   "cell_type": "markdown",
   "metadata": {},
   "source": [
    "MID PRACTICE"
   ]
  },
  {
   "cell_type": "markdown",
   "metadata": {},
   "source": [
    "1D Array"
   ]
  },
  {
   "cell_type": "code",
   "execution_count": 21,
   "metadata": {},
   "outputs": [
    {
     "name": "stdout",
     "output_type": "stream",
     "text": [
      "Forwards: [58, 25]\n",
      "Backwards: [25, 58]\n"
     ]
    }
   ],
   "source": [
    "import random\n",
    "\n",
    "arr=[]\n",
    "s=int(input(\"Enter size: \"))\n",
    "\n",
    "for i in range(s):\n",
    "    arr.append(random.randint(0,100))\n",
    "\n",
    "print(\"Forwards:\",arr)\n",
    "print(\"Backwards:\",arr[::-1])"
   ]
  },
  {
   "cell_type": "code",
   "execution_count": 22,
   "metadata": {},
   "outputs": [
    {
     "ename": "ValueError",
     "evalue": "invalid literal for int() with base 10: ''",
     "output_type": "error",
     "traceback": [
      "\u001b[1;31m---------------------------------------------------------------------------\u001b[0m",
      "\u001b[1;31mValueError\u001b[0m                                Traceback (most recent call last)",
      "\u001b[1;32mc:\\Ava\\GitHub\\CSE203\\Mid_prac.ipynb Cell 10\u001b[0m line \u001b[0;36m5\n\u001b[0;32m      <a href='vscode-notebook-cell:/c%3A/Ava/GitHub/CSE203/Mid_prac.ipynb#X12sZmlsZQ%3D%3D?line=1'>2</a>\u001b[0m \u001b[39m#for integers\u001b[39;00m\n\u001b[0;32m      <a href='vscode-notebook-cell:/c%3A/Ava/GitHub/CSE203/Mid_prac.ipynb#X12sZmlsZQ%3D%3D?line=2'>3</a>\u001b[0m arr1\u001b[39m=\u001b[39m[]\n\u001b[1;32m----> <a href='vscode-notebook-cell:/c%3A/Ava/GitHub/CSE203/Mid_prac.ipynb#X12sZmlsZQ%3D%3D?line=4'>5</a>\u001b[0m n1\u001b[39m=\u001b[39m\u001b[39mint\u001b[39;49m(\u001b[39minput\u001b[39;49m(\u001b[39m\"\u001b[39;49m\u001b[39mFirst num:\u001b[39;49m\u001b[39m\"\u001b[39;49m)) \n\u001b[0;32m      <a href='vscode-notebook-cell:/c%3A/Ava/GitHub/CSE203/Mid_prac.ipynb#X12sZmlsZQ%3D%3D?line=5'>6</a>\u001b[0m n2\u001b[39m=\u001b[39m\u001b[39mint\u001b[39m(\u001b[39minput\u001b[39m(\u001b[39m\"\u001b[39m\u001b[39mLast num:\u001b[39m\u001b[39m\"\u001b[39m))\n\u001b[0;32m      <a href='vscode-notebook-cell:/c%3A/Ava/GitHub/CSE203/Mid_prac.ipynb#X12sZmlsZQ%3D%3D?line=7'>8</a>\u001b[0m \u001b[39mfor\u001b[39;00m i \u001b[39min\u001b[39;00m \u001b[39mrange\u001b[39m(\u001b[39m25\u001b[39m):\n",
      "\u001b[1;31mValueError\u001b[0m: invalid literal for int() with base 10: ''"
     ]
    }
   ],
   "source": [
    "import random\n",
    "#for integers\n",
    "arr1=[]\n",
    "\n",
    "n1=int(input(\"First num:\")) \n",
    "n2=int(input(\"Last num:\"))\n",
    "\n",
    "for i in range(25):\n",
    "    arr1.append(random.randint(n1,n2))\n",
    "\n",
    "print(arr1)\n"
   ]
  },
  {
   "cell_type": "code",
   "execution_count": null,
   "metadata": {},
   "outputs": [
    {
     "name": "stdout",
     "output_type": "stream",
     "text": [
      "['H', 'C', 'Q', 'D', 'G', 'F', 'D', 'W', 'G', 'T', 'L', 'N', 'W', 'M', 'N', 'U', 'P', 'J', 'S', 'W', 'Z', 'K', 'Q', 'U', 'S']\n"
     ]
    }
   ],
   "source": [
    "#for characters\n",
    "arr2=[]\n",
    "\n",
    "n3=ord(input(\"First chr: \"))\n",
    "n4=ord(input(\"Last chr: \"))\n",
    "\n",
    "for i in range(25):\n",
    "    arr2.append(chr(random.randint(n3,n4)))\n",
    "\n",
    "print(arr2)"
   ]
  },
  {
   "cell_type": "code",
   "execution_count": null,
   "metadata": {},
   "outputs": [
    {
     "name": "stdout",
     "output_type": "stream",
     "text": [
      "13 = 1101\n"
     ]
    }
   ],
   "source": [
    "n=int(input())\n",
    "binary_n=bin(n)[2:]\n",
    "\n",
    "print(n,\"=\", binary_n)"
   ]
  },
  {
   "cell_type": "markdown",
   "metadata": {},
   "source": [
    "2D Array"
   ]
  },
  {
   "cell_type": "code",
   "execution_count": null,
   "metadata": {},
   "outputs": [
    {
     "name": "stdout",
     "output_type": "stream",
     "text": [
      "[[39, 46, 32], [47, 36, 46], [45, 30, 44], [49, 48, 50], [43, 31, 31]]\n"
     ]
    }
   ],
   "source": [
    "import random\n",
    "\n",
    "l1=[]\n",
    "\n",
    "row = 5\n",
    "col = 3\n",
    "\n",
    "for i in range(row):\n",
    "        l2=[]\n",
    "        for j in range(col):\n",
    "            l2.append(random.randint(30,50))\n",
    "        l1.append(l2)\n",
    "\n",
    "print(l1)     \n"
   ]
  },
  {
   "cell_type": "code",
   "execution_count": null,
   "metadata": {},
   "outputs": [
    {
     "name": "stdout",
     "output_type": "stream",
     "text": [
      "[1, 2]\n",
      "[3, 4]\n"
     ]
    }
   ],
   "source": [
    "row = int(input(\"Row size:\"))\n",
    "col = int(input(\"Col size:\"))\n",
    "\n",
    "mA=[]\n",
    "mB=[]\n",
    "\n",
    "for i in range(row):\n",
    "    l=[]\n",
    "    for j in range(col):\n",
    "        n=int(input())\n",
    "        l.append(n)\n",
    "    mA.append(l)\n",
    "\n",
    "for row in mA:\n",
    "    print(row)\n",
    "    "
   ]
  },
  {
   "cell_type": "markdown",
   "metadata": {},
   "source": [
    "Functions"
   ]
  },
  {
   "cell_type": "code",
   "execution_count": null,
   "metadata": {},
   "outputs": [
    {
     "name": "stdout",
     "output_type": "stream",
     "text": [
      "*\n",
      "**\n",
      "***\n",
      "****\n",
      "*****\n",
      "None\n"
     ]
    }
   ],
   "source": [
    "def triangle(size, char):\n",
    "    for i in range(1,size+1):\n",
    "        print(i*char)\n",
    "\n",
    "print(triangle(5,\"*\"))"
   ]
  },
  {
   "cell_type": "markdown",
   "metadata": {},
   "source": [
    "Stack and Queue"
   ]
  },
  {
   "cell_type": "code",
   "execution_count": 23,
   "metadata": {},
   "outputs": [],
   "source": [
    "class Node:\n",
    "  def __init__(self, data):\n",
    "    self.data = data\n",
    "    self.next = None\n",
    "\n",
    "class SinglyLinkedList:\n",
    "  def __init__(self):\n",
    "    self.head = None\n",
    "    self.size = 0\n",
    "\n",
    "  def print_all(self):\n",
    "    current_node = self.head\n",
    "    while current_node != None:\n",
    "      print(current_node.data, end =  \"->\")\n",
    "      current_node = current_node.next\n",
    "    print()\n",
    "\n",
    "  def append_left(self, new_data):\n",
    "    new_node = Node(new_data)\n",
    "    if self.head is None:\n",
    "      self.head = new_node\n",
    "    else:\n",
    "      tmp = self.head\n",
    "      self.head = new_node\n",
    "      new_node.next = tmp\n",
    "\n",
    "    self.size += 1\n",
    "\n",
    "  def pop_left(self):\n",
    "    if self.size==0:\n",
    "      print(\"List is empty\")\n",
    "    else:\n",
    "      self.size -= 1\n",
    "      self.head = self.head.next\n",
    "\n",
    "class Stack:\n",
    "    def __init__(self):\n",
    "        self.s = SinglyLinkedList()\n",
    "\n",
    "    def size(self):\n",
    "        return (self.s.size)\n",
    "\n",
    "    def isEmpty(self):\n",
    "      if self.size()==0:\n",
    "        return True\n",
    "      else:\n",
    "        return False\n",
    "\n",
    "    def push(self, data):\n",
    "        self.s.append_left(data)\n",
    "\n",
    "    def pop(self):\n",
    "         self.s.pop_left()\n",
    "\n",
    "    def peek(self):\n",
    "      if self.isEmpty():\n",
    "        print(\"Stack is empty\")\n",
    "        return\n",
    "      else:\n",
    "        return self.s.head.data\n",
    "\n",
    "    def printStack(self):\n",
    "       if self.isEmpty():\n",
    "        print(\"Stack is empty\")\n",
    "       else:\n",
    "        self.s.print_all()"
   ]
  },
  {
   "cell_type": "code",
   "execution_count": 24,
   "metadata": {},
   "outputs": [
    {
     "name": "stdout",
     "output_type": "stream",
     "text": [
      "N : 78\n",
      "O : 79\n",
      "L : 76\n",
      "E : 69\n",
      "M : 77\n",
      "R : 82\n",
      "E : 69\n",
      "T : 84\n",
      "A : 65\n",
      "W : 87\n"
     ]
    }
   ],
   "source": [
    "def print_reverse(string):\n",
    "  s = Stack()\n",
    "  for i in string:\n",
    "    s.push(i)\n",
    "\n",
    "  for _ in range(len(string)):\n",
    "    print(s.peek(),\":\",ord(s.peek()))\n",
    "    s.pop()\n",
    "\n",
    "print_reverse(\"WATERMELON\")"
   ]
  },
  {
   "cell_type": "code",
   "execution_count": null,
   "metadata": {},
   "outputs": [
    {
     "name": "stdout",
     "output_type": "stream",
     "text": [
      "N => 78\n",
      "O => 79\n",
      "L => 76\n",
      "E => 69\n",
      "M => 77\n",
      "R => 82\n",
      "E => 69\n",
      "T => 84\n",
      "A => 65\n",
      "W => 87\n",
      "NOLEMRETAW\n"
     ]
    }
   ],
   "source": [
    "def reverse_string(str):\n",
    "    rev_str = ''\n",
    "    s = Stack()\n",
    "\n",
    "    for i in str:\n",
    "        s.push(i)\n",
    "\n",
    "    while s.isEmpty() == False:\n",
    "        rev_str += s.peek()\n",
    "        print(f'{s.peek()} => {ord(s.peek())}')\n",
    "        s.pop()\n",
    "\n",
    "    return rev_str\n",
    "\n",
    "\n",
    "str = 'WATERMELON'\n",
    "print(reverse_string(str))"
   ]
  },
  {
   "cell_type": "code",
   "execution_count": null,
   "metadata": {},
   "outputs": [],
   "source": [
    "class Stack:\n",
    "    def __init__(self):\n",
    "        self.items = []\n",
    "\n",
    "    def push(self, item):\n",
    "        self.items.append(item)\n",
    "\n",
    "    def pop(self):\n",
    "        if not self.is_empty():\n",
    "            return self.items.pop()\n",
    "        else:\n",
    "            return None\n",
    "\n",
    "    def is_empty(self):\n",
    "        return len(self.items) == 0\n",
    "\n",
    "    def printStack(self):\n",
    "        print(self.items)\n",
    "\n",
    "def balancedSum(s1, s2):\n",
    "    diff = abs(sum(s1.items) - sum(s2.items))\n",
    "\n",
    "    if sum(s1.items) < sum(s2.items):\n",
    "      s1.push(diff)\n",
    "    else:\n",
    "      sum(s1.items) > sum(s2.items)\n",
    "      s2.push(diff)\n",
    "    return s1, s2\n",
    "\n",
    "s1 = Stack()\n",
    "s2 = Stack()\n",
    "\n",
    "s1.push(2)\n",
    "s1.push(4)\n",
    "s1.push(6)\n",
    "s1.push(2)\n",
    "s1.printStack()\n",
    "\n",
    "s2.push(2)\n",
    "s2.push(4)\n",
    "s2.push(2)\n",
    "s2.push(2)\n",
    "s2.printStack()\n",
    "\n",
    "result_s1, result_s2 = balancedSum(s1, s2)\n",
    "\n",
    "print(\"Stack s1 after finding the sum and appending the difference:\")\n",
    "result_s1.printStack()\n",
    "\n",
    "print(\"Stack s2 after finding the sum:\")\n",
    "result_s2.printStack()\n"
   ]
  }
 ],
 "metadata": {
  "kernelspec": {
   "display_name": "Python 3",
   "language": "python",
   "name": "python3"
  },
  "language_info": {
   "codemirror_mode": {
    "name": "ipython",
    "version": 3
   },
   "file_extension": ".py",
   "mimetype": "text/x-python",
   "name": "python",
   "nbconvert_exporter": "python",
   "pygments_lexer": "ipython3",
   "version": "3.11.6"
  }
 },
 "nbformat": 4,
 "nbformat_minor": 2
}
