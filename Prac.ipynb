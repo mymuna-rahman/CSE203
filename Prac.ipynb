{
 "cells": [
  {
   "cell_type": "code",
   "execution_count": 53,
   "metadata": {},
   "outputs": [
    {
     "name": "stdout",
     "output_type": "stream",
     "text": [
      "8800\n"
     ]
    }
   ],
   "source": [
    "n=int(input())\n",
    "fac=1\n",
    "    \n",
    "for i in range(1,n+1):\n",
    "    fac*=i\n",
    "\n",
    "string=str(fac)\n",
    "d4=str(fac)[-4:]\n",
    "\n",
    "if len(string)<4:\n",
    "    print(int(d4))\n",
    "else:\n",
    "    print(d4)\n",
    "\n"
   ]
  },
  {
   "cell_type": "code",
   "execution_count": null,
   "metadata": {},
   "outputs": [],
   "source": [
    "H, M = map(int, input().split())\n",
    "\n",
    "deg_M=360/60\n",
    "H=H*30"
   ]
  }
 ],
 "metadata": {
  "kernelspec": {
   "display_name": "Python 3",
   "language": "python",
   "name": "python3"
  },
  "language_info": {
   "codemirror_mode": {
    "name": "ipython",
    "version": 3
   },
   "file_extension": ".py",
   "mimetype": "text/x-python",
   "name": "python",
   "nbconvert_exporter": "python",
   "pygments_lexer": "ipython3",
   "version": "3.11.6"
  }
 },
 "nbformat": 4,
 "nbformat_minor": 2
}
